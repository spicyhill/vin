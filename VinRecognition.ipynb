{
 "cells": [
  {
   "cell_type": "code",
   "execution_count": 1,
   "id": "d3e640e3",
   "metadata": {},
   "outputs": [],
   "source": [
    "# Purpose: To extract VIN from image files based on Google Vision API\n",
    "# Author:  spicyhill \n",
    "\n",
    "# Get Google keys from a seperate file.\n",
    "# How to setup Google API: https://cloud.google.com/vision/docs/setup\n",
    "%run ./google_key.ipynb\n",
    "api_key = GOOGLE_API_KEY\n",
    "credential_path = VISION_KEY\n",
    "\n",
    "import os\n",
    "os.environ['GOOGLE_APPLICATION_CREDENTIALS'] =credential_path\n",
    "\n",
    "import io\n",
    "\n",
    "from google.cloud import vision\n",
    "\n",
    "# re is used to extract VIN using regex\n",
    "import re\n",
    "\n",
    "# display local image\n",
    "from IPython.display import Image"
   ]
  },
  {
   "cell_type": "code",
   "execution_count": 2,
   "id": "522caa36",
   "metadata": {},
   "outputs": [],
   "source": [
    "# Detects VIN in the image file\n",
    "# index = 0: the file located in Google Cloud Storage or on the Web\n",
    "# index = 1: the file located in local folder\n",
    "def detect_vin(path, index):\n",
    "    client = vision.ImageAnnotatorClient()\n",
    "    \n",
    "    if index == 0:\n",
    "        image = vision.Image()\n",
    "        image.source.image_uri = path\n",
    "    elif index == 1: \n",
    "        with io.open(path, 'rb') as image_file:\n",
    "            content = image_file.read()\n",
    "        image = vision.Image(content=content)\n",
    "    else:\n",
    "        print(\"Please input correct index number.\\n\"+\n",
    "              \"0: the file located in Google Cloud Storage or on the Web\\n\"+\n",
    "              \"1: the file located in local folder\")\n",
    "        return \n",
    "\n",
    "    response = client.text_detection(image=image)\n",
    "    if len(response.text_annotations) != 0:\n",
    "        texts = response.text_annotations[0].description\n",
    "    \n",
    "        # VIN is a 17 digit alphanumeric unique code\n",
    "        # Use regular expressions to extract VIN\n",
    "        vin = re.findall('[A-Za-z0-9_]{17}', texts)\n",
    "        if len(vin) == 0:\n",
    "            vin = ['0']\n",
    "    else:\n",
    "        vin = ['0']\n",
    "\n",
    "    if response.error.message:\n",
    "        raise Exception(\n",
    "            '{}\\nFor more info on error messages, check: '\n",
    "            'https://cloud.google.com/apis/design/errors'.format(\n",
    "                response.error.message))\n",
    "    return vin[0]"
   ]
  },
  {
   "cell_type": "markdown",
   "id": "63312aa8",
   "metadata": {},
   "source": [
    "## Extract VIN from Vehicle Permit"
   ]
  },
  {
   "cell_type": "markdown",
   "id": "29b6f74b",
   "metadata": {},
   "source": [
    "![title](https://www.sellmycar.ca/wp-content/uploads/2009/02/ontario-vin-number.jpg)"
   ]
  },
  {
   "cell_type": "code",
   "execution_count": 6,
   "id": "954382a9",
   "metadata": {},
   "outputs": [
    {
     "data": {
      "text/plain": [
       "'5FNRL5H60BB507148'"
      ]
     },
     "execution_count": 6,
     "metadata": {},
     "output_type": "execute_result"
    }
   ],
   "source": [
    "# Vehicle Permit\n",
    "uri=\"https://www.sellmycar.ca/wp-content/uploads/2009/02/ontario-vin-number.jpg\"\n",
    "detect_vin(uri, 0)"
   ]
  },
  {
   "cell_type": "markdown",
   "id": "fd8b932b",
   "metadata": {},
   "source": [
    "## Extract VIN from VIN Photo"
   ]
  },
  {
   "cell_type": "markdown",
   "id": "ddafd4fa",
   "metadata": {},
   "source": [
    "![title](https://assets.whichcar.com.au/image/upload/s--hqwMg5vO--/ar_2.304921968787515,c_fill,f_auto,q_auto:good/c_scale,w_1536/v1/archive/whichcar/2018/09/14/-1/VIN-MAIN-PIC.jpg)"
   ]
  },
  {
   "cell_type": "code",
   "execution_count": 7,
   "id": "c9c42a08",
   "metadata": {},
   "outputs": [
    {
     "data": {
      "text/plain": [
       "'WVGZZZ5NZJM131395'"
      ]
     },
     "execution_count": 7,
     "metadata": {},
     "output_type": "execute_result"
    }
   ],
   "source": [
    "# VIN \n",
    "uri=\"https://assets.whichcar.com.au/image/upload/s--hqwMg5vO--/ar_2.304921968787515,c_fill,f_auto,q_auto:good/c_scale,w_1536/v1/archive/whichcar/2018/09/14/-1/VIN-MAIN-PIC.jpg\"\n",
    "detect_vin(uri, 0)"
   ]
  }
 ],
 "metadata": {
  "kernelspec": {
   "display_name": "Python 3 (ipykernel)",
   "language": "python",
   "name": "python3"
  },
  "language_info": {
   "codemirror_mode": {
    "name": "ipython",
    "version": 3
   },
   "file_extension": ".py",
   "mimetype": "text/x-python",
   "name": "python",
   "nbconvert_exporter": "python",
   "pygments_lexer": "ipython3",
   "version": "3.9.7"
  }
 },
 "nbformat": 4,
 "nbformat_minor": 5
}
