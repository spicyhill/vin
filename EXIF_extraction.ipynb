{
 "cells": [
  {
   "cell_type": "code",
   "execution_count": 1,
   "id": "77976ae9",
   "metadata": {},
   "outputs": [],
   "source": [
    "# Purpose: To extract geolocation and timestamp information from image file \n",
    "# Author:  Spicyhill\n",
    "\n",
    "from exif import Image # EXIF Python library (https://pypi.org/project/exif/)\n",
    "\n",
    "def image_info(path): # To get latitude, longtitude, and datetime information\n",
    "    \"\"\"\n",
    "        :param path(string): image file path\n",
    "        :returns image_info(dictionary): image information\n",
    "    \"\"\"\n",
    "    image_info = {\n",
    "        \"has_exif\": \"N\",\n",
    "        \"latitude\":   0,\n",
    "        \"longtitude\": 0,\n",
    "        \"datetime\":   0\n",
    "        }  \n",
    "    with open(path, 'rb') as src:\n",
    "        image = Image(src)\n",
    "    if image.has_exif:\n",
    "        image_info[\"has_exif\"] = \"Y\"\n",
    "        try:       \n",
    "            image_info[\"latitude\"]   = decimal_degrees(image.gps_latitude,  image.gps_latitude_ref)\n",
    "            image_info[\"longtitude\"] = decimal_degrees(image.gps_longitude, image.gps_longitude_ref)\n",
    "            image_info[\"datetime\"]   = image.datetime_original\n",
    "        except AttributeError:\n",
    "            image_info[\"latitude\"]   = 0\n",
    "            image_info[\"longtitude\"] = 0\n",
    "            image_info[\"datetime\"]   = 0\n",
    "    else:\n",
    "        image_info[\"has_exif\"] = \"N\"\n",
    "            \n",
    "    return image_info"
   ]
  },
  {
   "cell_type": "code",
   "execution_count": 2,
   "id": "4a1764a4",
   "metadata": {},
   "outputs": [],
   "source": [
    "def decimal_degrees(coordinate, ref): # To convert the coordinate to decimal degrees\n",
    "    \"\"\"\n",
    "        :param coordinate(list): coordinate[0] degrees, coordinate[1] minutes, coordinate[2] seconds\n",
    "        :param ref(string): direction \n",
    "        :returns decimal_degrees(float): decimal degrees\n",
    "    \"\"\"\n",
    "    decimal_degrees = coordinate[0] + coordinate[1]/60 + coordinate[2]/3600\n",
    "    # Latitude (Equator), Longtitude (Prime Meridian)\n",
    "    if ref == \"S\" or ref == \"W\":\n",
    "        decimal_degrees = -decimal_degrees\n",
    "    return decimal_degrees"
   ]
  },
  {
   "cell_type": "code",
   "execution_count": null,
   "id": "0e4483fe",
   "metadata": {
    "scrolled": true
   },
   "outputs": [],
   "source": [
    "# Call the image_info function to extract geolocation, Timestamp from the photo\n",
    "img_path = '' # the local path of the image file\n",
    "rlt = image_info(img_path)\n",
    "print(\"has_exif:\"   + rlt[\"has_exif\"])\n",
    "print(\"latitude:\"   + f'{rlt[\"latitude\"]}')\n",
    "print(\"longtitude:\" + f'{rlt[\"longtitude\"]}')\n",
    "print(\"datetime:\"   + f'{rlt[\"datetime\"]}')"
   ]
  }
 ],
 "metadata": {
  "kernelspec": {
   "display_name": "Python 3 (ipykernel)",
   "language": "python",
   "name": "python3"
  },
  "language_info": {
   "codemirror_mode": {
    "name": "ipython",
    "version": 3
   },
   "file_extension": ".py",
   "mimetype": "text/x-python",
   "name": "python",
   "nbconvert_exporter": "python",
   "pygments_lexer": "ipython3",
   "version": "3.9.7"
  }
 },
 "nbformat": 4,
 "nbformat_minor": 5
}
