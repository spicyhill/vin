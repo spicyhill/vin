{
 "cells": [
  {
   "cell_type": "code",
   "execution_count": 1,
   "id": "451f55d8",
   "metadata": {},
   "outputs": [],
   "source": [
    "# Purpose: To decode VIN information by call NHTSA API (https://vpic.nhtsa.dot.gov/api/) \n",
    "# Author:  spicyhill \n",
    "\n",
    "import requests,json;\n",
    "    \n",
    "def vin_decoder(vin_number): # VIN Decoder \n",
    "    \"\"\"\n",
    "        :param vin_number(string): vin_number \n",
    "        :returns rlt(dictionary): vehicle information \n",
    "    \"\"\"\n",
    "    url = 'https://vpic.nhtsa.dot.gov/api/vehicles/DecodeVINValuesBatch/';\n",
    "    post_fields = {'format': 'json', 'data':vin_number}; # available return format: xml, csv, json\n",
    "    r = requests.post(url, data=post_fields);\n",
    "    rlt = json.loads(r.text)\n",
    "    return rlt"
   ]
  },
  {
   "cell_type": "code",
   "execution_count": null,
   "id": "8a0df838",
   "metadata": {
    "scrolled": false
   },
   "outputs": [],
   "source": [
    "vin_num = \"\" # vin number\n",
    "vin_details = vin_decoder(vin_num)\n",
    "\n",
    "#use vin_details[\"Results\"][0] to check all available fields\n",
    "#print(vin_details[\"Results\"][0])\n",
    "\n",
    "print(\"Make: \"            + vin_details[\"Results\"][0][\"Make\"])\n",
    "print(\"Model: \"           + vin_details[\"Results\"][0][\"Model\"] )\n",
    "print(\"ModelYear: \"       + vin_details[\"Results\"][0][\"ModelYear\"] ) \n",
    "print(\"BodyClass: \"       + vin_details[\"Results\"][0][\"BodyClass\"] )\n",
    "print(\"FuelTypePrimary: \" + vin_details[\"Results\"][0][\"FuelTypePrimary\"] )\n",
    "print(\"Seats: \"           + vin_details[\"Results\"][0][\"Seats\"] )\n",
    "print(\"ErrorCode: \"       + vin_details[\"Results\"][0][\"ErrorCode\"] )\n",
    "print(\"ErrorText: \"       + vin_details[\"Results\"][0][\"ErrorText\"] )"
   ]
  }
 ],
 "metadata": {
  "kernelspec": {
   "display_name": "Python 3 (ipykernel)",
   "language": "python",
   "name": "python3"
  },
  "language_info": {
   "codemirror_mode": {
    "name": "ipython",
    "version": 3
   },
   "file_extension": ".py",
   "mimetype": "text/x-python",
   "name": "python",
   "nbconvert_exporter": "python",
   "pygments_lexer": "ipython3",
   "version": "3.9.7"
  }
 },
 "nbformat": 4,
 "nbformat_minor": 5
}
